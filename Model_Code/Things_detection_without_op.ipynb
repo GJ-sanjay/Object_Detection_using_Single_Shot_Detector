{
  "nbformat": 4,
  "nbformat_minor": 0,
  "metadata": {
    "colab": {
      "provenance": []
    },
    "kernelspec": {
      "name": "python3",
      "display_name": "Python 3"
    },
    "language_info": {
      "name": "python"
    }
  },
  "cells": [
    {
      "cell_type": "code",
      "source": [
        "# Install Miniconda\n",
        "!wget -q https://repo.anaconda.com/miniconda/Miniconda3-latest-Linux-x86_64.sh -O miniconda.sh\n",
        "!bash miniconda.sh -bfp /usr/local\n",
        "!rm miniconda.sh\n",
        "\n",
        "# Add conda to the system path\n",
        "import sys\n",
        "sys.path.append('/usr/local/lib/python3.7/site-packages')\n",
        "\n",
        "# Install additional packages needed\n",
        "!pip install opencv-python numpy imutils\n",
        "\n",
        "# Import necessary libraries\n",
        "import cv2\n",
        "import numpy as np\n",
        "import imutils\n",
        "\n",
        "# Create and activate the \"od\" environment with Python 3.9\n",
        "!conda create -y -n od python=3.9\n",
        "!source activate od\n"
      ],
      "metadata": {
        "id": "UmYDDgaaMy-W"
      },
      "execution_count": null,
      "outputs": []
    },
    {
      "cell_type": "code",
      "source": [
        "from google.colab import drive\n",
        "drive.mount('/content/drive')"
      ],
      "metadata": {
        "colab": {
          "base_uri": "https://localhost:8080/"
        },
        "id": "O-3CnB9kQH32",
        "outputId": "ea4711d0-9566-41f3-fcdc-f214b0028919"
      },
      "execution_count": null,
      "outputs": [
        {
          "output_type": "stream",
          "name": "stdout",
          "text": [
            "Mounted at /content/drive\n"
          ]
        }
      ]
    },
    {
      "cell_type": "code",
      "source": [
        "!pip install ProtoText"
      ],
      "metadata": {
        "id": "-6gB9mgZSgsI"
      },
      "execution_count": null,
      "outputs": []
    },
    {
      "cell_type": "code",
      "source": [
        "from google.colab.patches import cv2_imshow\n"
      ],
      "metadata": {
        "id": "D8E5yT33aTTB"
      },
      "execution_count": null,
      "outputs": []
    },
    {
      "cell_type": "code",
      "source": [
        "from imutils.video import FPS\n",
        "import numpy as np\n",
        "import imutils\n",
        "import cv2\n",
        "\n",
        "use_gpu = True\n",
        "live_video = False\n",
        "confidence_level = 0.5\n",
        "fps = FPS().start()\n",
        "ret = True\n",
        "CLASSES = [\"background\", \"aeroplane\", \"bicycle\", \"bird\", \"boat\",\n",
        "           \"bottle\", \"bus\", \"car\", \"cat\", \"chair\", \"cow\", \"diningtable\",\n",
        "           \"dog\", \"horse\", \"motorbike\", \"person\", \"pottedplant\", \"sheep\",\n",
        "           \"sofa\", \"train\", \"tvmonitor\"]\n",
        "\n",
        "COLORS = np.random.uniform(0, 255, size=(len(CLASSES), 3))\n",
        "\n",
        "net = cv2.dnn.readNetFromCaffe('/content/MobileNetSSD_deploy.prototxt','/content/MobileNetSSD_deploy.caffemodel')\n",
        "\n",
        "if use_gpu:\n",
        "    print(\"[INFO] setting preferable backend and target to CUDA...\")\n",
        "    net.setPreferableBackend(cv2.dnn.DNN_BACKEND_CUDA)\n",
        "    net.setPreferableTarget(cv2.dnn.DNN_TARGET_CUDA)\n",
        "\n",
        "\n",
        "print(\"[INFO] accessing video stream...\")\n",
        "if live_video:\n",
        "    vs = cv2.VideoCapture('/content/test.mp4')  #Use 0 if you want to use camera\n",
        "else:\n",
        "    vs = cv2.VideoCapture('/content/test.mp4')\n",
        "\n",
        "while ret:\n",
        "    ret, frame = vs.read()\n",
        "    if ret:\n",
        "        frame = imutils.resize(frame, width=400)\n",
        "        (h, w) = frame.shape[:2]\n",
        "\n",
        "        blob = cv2.dnn.blobFromImage(frame, 0.007843, (300, 300), 127.5)\n",
        "        net.setInput(blob)\n",
        "        detections = net.forward()\n",
        "\n",
        "        for i in np.arange(0, detections.shape[2]):\n",
        "            confidence = detections[0, 0, i, 2]\n",
        "            if confidence > confidence_level:\n",
        "                idx = int(detections[0, 0, i, 1])\n",
        "                box = detections[0, 0, i, 3:7] * np.array([w, h, w, h])\n",
        "                (startX, startY, endX, endY) = box.astype(\"int\")\n",
        "\n",
        "                label = \"{}: {:.2f}%\".format(CLASSES[idx], confidence * 100)\n",
        "                cv2.rectangle(frame, (startX, startY), (endX, endY), COLORS[idx], 2)\n",
        "\n",
        "                y = startY - 15 if startY - 15 > 15 else startY + 15\n",
        "                cv2.putText(frame, label, (startX, y), cv2.FONT_HERSHEY_SIMPLEX, 0.5, COLORS[idx], 2)\n",
        "\n",
        "        cv2_imshow( frame)\n",
        "\n",
        "        if cv2.waitKey(1) == 27:\n",
        "            break\n",
        "\n",
        "        fps.update()\n",
        "\n",
        "fps.stop()\n",
        "\n",
        "print(\"[INFO] elapsed time: {:.2f}\".format(fps.elapsed()))\n",
        "print(\"[INFO] approx. FPS: {:.2f}\".format(fps.fps()))\n"
      ],
      "metadata": {
        "id": "UFhneXlPNJlZ"
      },
      "execution_count": null,
      "outputs": []
    },
    {
      "cell_type": "code",
      "source": [],
      "metadata": {
        "id": "RE9ss24wd6qc"
      },
      "execution_count": null,
      "outputs": []
    }
  ]
}